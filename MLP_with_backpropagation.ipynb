{
 "cells": [
  {
   "cell_type": "markdown",
   "metadata": {},
   "source": [
    "# <center> Multi-Layered Perceptron from scratch "
   ]
  },
  {
   "cell_type": "code",
   "execution_count": 30,
   "metadata": {},
   "outputs": [],
   "source": [
    "# Import important Libraries\n",
    "import numpy as np\n",
    "import pandas as pd\n",
    "from tqdm.notebook import tqdm\n",
    "import matplotlib.pyplot as plt"
   ]
  },
  {
   "cell_type": "code",
   "execution_count": 31,
   "metadata": {},
   "outputs": [],
   "source": [
    "class MLP:\n",
    "    \n",
    "    def __init__(self, n_inputs, n_outputs, hidden_sizes=[30]):\n",
    "        self.nx = n_inputs\n",
    "        self.ny = n_outputs\n",
    "        self.nh = len(hidden_sizes)\n",
    "        self.sizes = [self.nx] + hidden_sizes + [self.ny] \n",
    "\n",
    "        self.W = {}\n",
    "        self.B = {}\n",
    "        for i in range(self.nh+1):\n",
    "            self.W[i+1] = np.zeros((self.sizes[i], self.sizes[i+1]))\n",
    "            self.B[i+1] = np.zeros((1, self.sizes[i+1]))\n",
    "\n",
    "    def sigmoid(self, x):\n",
    "        return 1.0/(1.0 + np.exp(-x))\n",
    "    \n",
    "    def grad_sigmoid(self, x):\n",
    "        return x*(1-x) \n",
    "  \n",
    "    def softmax(self, x):\n",
    "        exps = np.exp(x)\n",
    "        return exps / np.sum(exps)\n",
    "\n",
    "    def forward_pass(self, x):\n",
    "        self.A = {}\n",
    "        self.H = {}\n",
    "        self.H[0] = x.reshape(1, -1)\n",
    "        for i in range(self.nh):\n",
    "            self.A[i+1] = np.matmul(self.H[i], self.W[i+1]) + self.B[i+1]\n",
    "            self.H[i+1] = self.sigmoid(self.A[i+1])\n",
    "        self.A[self.nh+1] = np.matmul(self.H[self.nh], self.W[self.nh+1]) + self.B[self.nh+1]\n",
    "        self.H[self.nh+1] = self.softmax(self.A[self.nh+1])\n",
    "        return self.H[self.nh+1]\n",
    "  \n",
    "    def predict(self, X):\n",
    "        Y_pred = []\n",
    "        for x in X:\n",
    "            y_pred = self.forward_pass(x)\n",
    "            Y_pred.append(y_pred)\n",
    "        return np.array(Y_pred).squeeze()\n",
    "  \n",
    "    def cross_entropy(self,label,pred):          # error function\n",
    "        yl=np.multiply(pred,label)\n",
    "        yl=yl[yl!=0]\n",
    "        yl=-np.log(yl)\n",
    "        yl=np.mean(yl)\n",
    "        return yl\n",
    " \n",
    "    def grad(self, x, y):\n",
    "        self.forward_pass(x)\n",
    "        self.dW = {}\n",
    "        self.dB = {}\n",
    "        self.dH = {}\n",
    "        self.dA = {}\n",
    "        L = self.nh + 1\n",
    "        self.dA[L] = (self.H[L] - y)\n",
    "        for k in range(L, 0, -1):\n",
    "            self.dW[k] = np.matmul(self.H[k-1].T, self.dA[k])\n",
    "            self.dB[k] = self.dA[k]\n",
    "            self.dH[k-1] = np.matmul(self.dA[k], self.W[k].T)\n",
    "            self.dA[k-1] = np.multiply(self.dH[k-1], self.grad_sigmoid(self.H[k-1])) \n",
    "    \n",
    "    def fit(self, X, Y, epochs=100, initialize='True', learning_rate=0.01, display_loss=False):\n",
    "      \n",
    "        if display_loss:\n",
    "            loss = {}\n",
    "      \n",
    "        if initialize:\n",
    "            for i in range(self.nh+1):\n",
    "                self.W[i+1] = np.random.randn(self.sizes[i], self.sizes[i+1])\n",
    "                self.B[i+1] = np.random.randn(1, self.sizes[i+1])\n",
    "        \n",
    "        for epoch in tqdm(range(epochs), total=epochs, unit=\"epoch\"):\n",
    "            dW = {}\n",
    "            dB = {}\n",
    "            for i in range(self.nh+1):\n",
    "                dW[i+1] = np.zeros((self.sizes[i], self.sizes[i+1]))\n",
    "                dB[i+1] = np.zeros((1, self.sizes[i+1]))\n",
    "            for x, y in zip(X, Y):\n",
    "                self.grad(x, y)\n",
    "                for i in range(self.nh+1):\n",
    "                    dW[i+1] += self.dW[i+1]\n",
    "                    dB[i+1] += self.dB[i+1]\n",
    "\n",
    "            m = X.shape[1]\n",
    "            for i in range(self.nh+1):\n",
    "                self.W[i+1] -= learning_rate * (dW[i+1]/m)\n",
    "                self.B[i+1] -= learning_rate * (dB[i+1]/m)\n",
    "\n",
    "            if display_loss:\n",
    "                Y_pred = self.predict(X) \n",
    "                loss[epoch] = self.cross_entropy(Y, Y_pred)\n",
    "\n",
    "        if display_loss:\n",
    "            plt.title('Training Loss',fontweight=\"bold\")\n",
    "            plt.plot(list(range(epochs)),list(loss.values()),'b-')\n",
    "            plt.xlabel('Epochs')\n",
    "            plt.ylabel('Error')\n",
    "            plt.show()"
   ]
  },
  {
   "cell_type": "code",
   "execution_count": 78,
   "metadata": {},
   "outputs": [],
   "source": [
    "from sklearn.datasets import load_wine\n",
    "data = load_wine()\n",
    "X = data.data\n",
    "y = data.target"
   ]
  },
  {
   "cell_type": "code",
   "execution_count": 79,
   "metadata": {},
   "outputs": [],
   "source": [
    "from sklearn.model_selection import train_test_split\n",
    "X_train, X_test, y_train, y_test = train_test_split(X, y, test_size=0.2)\n",
    "y_train = np.matrix(y_train).T\n",
    "y_test = np.matrix(y_test).T"
   ]
  },
  {
   "cell_type": "code",
   "execution_count": 80,
   "metadata": {},
   "outputs": [],
   "source": [
    "from sklearn.preprocessing import OneHotEncoder\n",
    "from sklearn.preprocessing import MinMaxScaler\n",
    "\n",
    "onehotencoder = OneHotEncoder(categories='auto')\n",
    "scaler = MinMaxScaler()\n",
    "X_train = scaler.fit_transform(X_train)\n",
    "y_train = onehotencoder.fit_transform(y_train).toarray()\n",
    "X_test = scaler.fit_transform(X_test)\n",
    "y_test = onehotencoder.fit_transform(y_test).toarray()"
   ]
  },
  {
   "cell_type": "code",
   "execution_count": 81,
   "metadata": {},
   "outputs": [
    {
     "data": {
      "application/vnd.jupyter.widget-view+json": {
       "model_id": "ddc4c9cb00504922850a1513b6bd6124",
       "version_major": 2,
       "version_minor": 0
      },
      "text/plain": [
       "HBox(children=(FloatProgress(value=0.0, max=500.0), HTML(value='')))"
      ]
     },
     "metadata": {},
     "output_type": "display_data"
    },
    {
     "name": "stdout",
     "output_type": "stream",
     "text": [
      "\n"
     ]
    },
    {
     "data": {
      "image/png": "[encoded data removed]",
      "text/plain": [
       "<Figure size 432x288 with 1 Axes>"
      ]
     },
     "metadata": {},
     "output_type": "display_data"
    }
   ],
   "source": [
    "mlp = MLP(X_train.shape[1],y_train.shape[1],[30])\n",
    "mlp.fit(X_train,y_train,epochs=500,learning_rate=0.005,display_loss=True)"
   ]
  },
  {
   "cell_type": "code",
   "execution_count": 82,
   "metadata": {},
   "outputs": [
    {
     "data": {
      "text/plain": [
       "{1: array([[-0.52594489, -2.96613331, -0.72159648,  0.34967041, -0.71843938,\n",
       "          0.54901815,  0.2281507 ,  1.66923411,  1.14863841, -1.29704766,\n",
       "          0.30952298,  0.42796229,  0.12053616, -0.69275439, -0.2801121 ,\n",
       "          0.47004402,  1.07946354, -0.45102283, -0.97089253,  0.48462961,\n",
       "          0.61070052,  0.57217727,  1.06574731,  0.07137836, -0.45801813,\n",
       "          1.41562936, -0.54065847,  0.46494506,  0.00835289,  0.69258986],\n",
       "        [-0.37977712,  0.44925769, -1.24619586,  0.46964732, -2.40763732,\n",
       "          0.13117126,  2.05025952, -0.92922545, -1.74076852, -1.21250557,\n",
       "          0.86439725,  0.38813611,  1.20677266, -1.93875676, -0.09500441,\n",
       "          1.28624541, -0.13552461, -1.648093  ,  0.8325286 ,  0.57175664,\n",
       "          1.10033538,  0.98029342, -0.64991422, -1.66976577, -1.20334201,\n",
       "         -1.26301659, -1.53112284,  1.77987768, -3.17880168,  1.16673641],\n",
       "        [ 0.38547143,  1.85381909,  0.40526981,  0.09058137,  1.18670588,\n",
       "          2.6345604 ,  0.48117074, -0.06834048,  0.41306398, -0.99862619,\n",
       "         -1.23435636,  0.93868378, -0.79456538, -1.47922431, -1.0774349 ,\n",
       "         -0.00446634,  0.35390432, -0.73559935,  0.55137987, -0.52956309,\n",
       "          2.22790396,  0.55692527,  0.58521794,  1.81163167, -1.98117714,\n",
       "          1.08319244, -0.13402367, -0.924698  ,  0.62933526,  0.12657277],\n",
       "        [-0.35279582, -0.45049707, -1.14274935, -0.9981239 , -0.61158151,\n",
       "         -0.18455047, -0.17373732, -1.04888068, -0.28388992,  0.17430408,\n",
       "         -1.36916363,  0.07280882, -0.78091121,  1.37210564, -1.37320459,\n",
       "         -0.69898054, -0.89536771,  0.97104096,  0.77478175, -0.65258969,\n",
       "         -1.86936935, -0.61731188, -0.17948504, -0.11989609,  0.86242168,\n",
       "          0.85341925, -1.36597013,  0.44302938,  0.06791372,  0.35872663],\n",
       "        [-0.77569904,  1.03725844, -0.45903196,  0.85478568, -0.44118515,\n",
       "          0.93492534,  0.3392295 , -0.44382405, -0.36678165,  1.2906829 ,\n",
       "          1.13574178,  0.08330605, -1.11553776, -1.01845531, -0.51118651,\n",
       "         -0.23377234, -0.41781254,  1.33706342, -0.56400301, -0.30899177,\n",
       "          0.18709859,  1.54272639, -0.32939003,  2.19982596,  1.08066209,\n",
       "          0.21834729, -0.12352559, -0.57064311, -0.50066598,  0.66994145],\n",
       "        [-0.63982864,  1.04978117,  0.10899882,  0.21178014, -1.73996182,\n",
       "         -1.15875837,  0.0418676 ,  1.02170003,  2.10721193,  1.56967555,\n",
       "          0.04651081, -0.28933002, -0.24568709, -0.8740799 , -2.11668556,\n",
       "          0.50573219, -1.56826492, -1.34309124,  0.26852986,  2.31907001,\n",
       "         -0.24944112,  0.12947649,  0.26762645,  1.43273986,  0.77535353,\n",
       "         -1.59136797, -2.52956748, -0.50858215,  0.05884185, -0.33744548],\n",
       "        [-0.41704959, -0.69847625, -0.233358  , -0.07911897, -0.30974048,\n",
       "         -1.38934375,  0.43525448, -1.24710262,  1.02388851, -0.28098055,\n",
       "          0.21250968, -1.15827231, -1.83861681,  0.30407469, -0.41342466,\n",
       "         -3.72795634, -0.07024213,  1.37705495,  1.00319154,  0.75383427,\n",
       "          0.241175  , -1.76953107,  0.14776953, -0.61669596, -0.32726256,\n",
       "         -2.07614725,  1.06488389, -0.9342594 , -0.13227039, -0.99661759],\n",
       "        [-1.11339503, -0.69787344, -0.85738967,  0.152376  ,  2.87138514,\n",
       "         -0.55230864, -1.0296102 , -0.23866105,  0.03642238,  0.33736529,\n",
       "         -0.01872401,  0.67192819,  0.90691014,  1.12029275, -0.17039489,\n",
       "          1.97110022,  0.25035878, -2.00546075, -1.27007921,  0.36449386,\n",
       "         -1.77999536,  2.03953237, -0.52183077, -1.15245899, -1.00792181,\n",
       "         -0.34218881,  0.7271907 ,  1.25326299,  1.38249918, -0.08005404],\n",
       "        [-1.38307629, -0.29922894, -0.76077241, -1.45644313,  0.19738659,\n",
       "         -1.18105938,  1.56427521, -0.9884055 ,  1.25330623, -0.35762159,\n",
       "          1.19617433,  0.49073152,  1.47586532,  1.06911883, -0.34813098,\n",
       "         -2.5633043 , -0.46930029,  0.72436691, -0.30404799,  0.00825703,\n",
       "         -0.32681276, -0.57172328, -0.95342739, -0.37793852,  1.10276927,\n",
       "          1.1236061 ,  0.15061269,  1.07005808, -0.26272439,  0.23946488],\n",
       "        [-2.46546646,  1.27122033, -1.03761141,  1.06149146, -1.67537821,\n",
       "         -0.56649702,  1.79379453,  2.11598684, -0.15053656,  0.52372651,\n",
       "          0.3184632 ,  1.21462531,  0.0520786 ,  2.13535646,  0.19187683,\n",
       "         -1.6781072 , -0.46760093, -0.6390797 , -1.74742096, -0.30039109,\n",
       "          1.33400469, -0.10744797,  0.37058447, -0.93248071, -1.39268331,\n",
       "         -0.24966555, -0.32857487, -1.02623533,  0.91607374, -0.67871033],\n",
       "        [ 0.55742273, -0.70330134, -2.0688908 ,  1.8863925 , -0.09328465,\n",
       "          0.20948813,  0.54213507,  0.57712957, -1.75498722, -0.15535161,\n",
       "         -0.13448767,  0.0465617 , -0.84553981,  0.23717239, -1.2604025 ,\n",
       "         -0.72067847, -1.22147081,  0.52789518,  2.40686979,  0.77133676,\n",
       "         -0.56493074, -1.20185   ,  0.28213655, -0.23751324,  0.24989222,\n",
       "          0.78403151,  0.45178094, -0.44245533, -1.01669059, -0.64239366],\n",
       "        [-0.30333947,  1.20923149, -0.46154403, -0.7338515 ,  1.99847279,\n",
       "         -1.49326958, -1.38763703, -1.96315746, -0.18132221, -0.0464904 ,\n",
       "         -0.98477563, -0.32629414, -0.26538694,  1.18456371, -0.07896611,\n",
       "          0.05428587,  1.63651136,  0.90186378, -0.05827739, -1.16148288,\n",
       "          0.11416816, -0.68145951, -1.65954668,  1.38963075,  0.52483461,\n",
       "         -0.02871372,  0.16644327,  0.25509742,  0.45242451, -0.67850161],\n",
       "        [ 0.97588005, -0.17812077,  0.05024608, -1.56985457,  0.09718492,\n",
       "         -0.61535058,  0.7945912 ,  0.13190606,  1.0038386 ,  0.27719415,\n",
       "         -2.75499497,  1.92750754, -0.1035863 ,  0.4539757 , -1.16582073,\n",
       "          2.05281322, -0.46742393,  3.07737452,  0.515483  , -0.1812418 ,\n",
       "         -0.02991374, -0.26044479, -0.54110587,  1.36554479, -0.24046413,\n",
       "         -0.22689153,  1.01172055, -1.53846024, -0.04210077,  1.04699118]]),\n",
       " 2: array([[-0.00829731,  0.48610359, -0.06553368],\n",
       "        [-0.2809359 , -0.24651887, -1.20187598],\n",
       "        [-0.48639696, -0.40969857, -0.14730225],\n",
       "        [-0.4241292 ,  0.18542056, -0.23317149],\n",
       "        [-0.91062346,  0.41826982, -1.9917949 ],\n",
       "        [ 0.88620958, -1.22697021,  1.9902711 ],\n",
       "        [ 0.1846153 , -0.96183703,  2.29376823],\n",
       "        [-0.80405514, -0.3698173 , -1.30512365],\n",
       "        [ 1.87765426,  1.3626085 , -0.29997641],\n",
       "        [-0.28853829,  1.53940455, -0.34474062],\n",
       "        [-0.96483558, -0.06648536, -1.61073215],\n",
       "        [ 1.11802382,  0.52833877, -0.83720424],\n",
       "        [ 0.63589515, -0.43684938,  0.05086375],\n",
       "        [-1.69244087, -0.38999177,  0.62538508],\n",
       "        [ 3.01876268,  0.62711409,  0.15710866],\n",
       "        [-1.56066428, -0.59985422, -0.13490091],\n",
       "        [ 1.41321389,  0.62443606, -0.67621454],\n",
       "        [ 1.00515903, -1.19880063, -1.53479017],\n",
       "        [-0.55749118,  0.71664312, -1.35589732],\n",
       "        [ 1.73022343,  0.99554035, -1.88398172],\n",
       "        [ 0.37087562, -1.51697811,  1.39406882],\n",
       "        [-0.53028273, -0.40411424, -0.36291877],\n",
       "        [-0.29267944,  0.94679417,  0.62648205],\n",
       "        [ 1.96688091, -0.06908783, -0.6734241 ],\n",
       "        [-0.72122609,  0.22258617, -1.64047727],\n",
       "        [-2.28578507,  0.12289935,  0.55142349],\n",
       "        [ 0.99993234,  0.23504352, -0.25814089],\n",
       "        [-1.72222165,  0.91830328,  1.54536379],\n",
       "        [-1.92235092, -2.21289688,  0.38435637],\n",
       "        [-0.81015725, -1.77075765,  0.1896491 ]])}"
      ]
     },
     "execution_count": 82,
     "metadata": {},
     "output_type": "execute_result"
    }
   ],
   "source": [
    "mlp.W"
   ]
  },
  {
   "cell_type": "code",
   "execution_count": 83,
   "metadata": {},
   "outputs": [
    {
     "name": "stdout",
     "output_type": "stream",
     "text": [
      "Training accuracy 0.9507\n",
      "Testing accuracy 0.97222\n"
     ]
    }
   ],
   "source": [
    "from sklearn.metrics import accuracy_score\n",
    "\n",
    "y_pred_train = mlp.predict(np.asarray(X_train))\n",
    "y_pred_train = np.argmax(y_pred_train,1)\n",
    "y_train = np.argmax(y_train,1)\n",
    "\n",
    "y_pred_test = mlp.predict(np.asarray(X_test))\n",
    "y_pred_test = np.argmax(y_pred_test,1)\n",
    "y_test = np.argmax(y_test,1)\n",
    "\n",
    "accuracy_train = accuracy_score(y_pred_train, y_train)\n",
    "accuracy_test = accuracy_score(y_pred_test, y_test)\n",
    "\n",
    "print(\"Training accuracy\", round(accuracy_train, 5))\n",
    "print(\"Testing accuracy\", round(accuracy_test, 5))"
   ]
  },
  {
   "cell_type": "code",
   "execution_count": 84,
   "metadata": {},
   "outputs": [
    {
     "data": {
      "image/png": "[encoded data removed]",
      "text/plain": [
       "<Figure size 504x432 with 2 Axes>"
      ]
     },
     "metadata": {},
     "output_type": "display_data"
    }
   ],
   "source": [
    "import seaborn as sns\n",
    "from sklearn.metrics import confusion_matrix\n",
    "\n",
    "plt.style.use('dark_background')\n",
    "fig, ax = plt.subplots(figsize=(7,6))\n",
    "sns.heatmap(ax=ax,data=confusion_matrix(y_train, y_pred_train), cmap=\"YlGnBu\",annot=True, fmt=\"d\" )\n",
    "ax.set_xlabel(\"Y_pred\",fontweight='bold')\n",
    "ax.set_ylabel(\"Y_true\",fontweight='bold')\n",
    "plt.title('Training Confusion Matrix',fontweight='bold')\n",
    "plt.show()"
   ]
  },
  {
   "cell_type": "code",
   "execution_count": 85,
   "metadata": {},
   "outputs": [
    {
     "data": {
      "image/png": "[encoded data removed]",
      "text/plain": [
       "<Figure size 504x432 with 2 Axes>"
      ]
     },
     "metadata": {},
     "output_type": "display_data"
    }
   ],
   "source": [
    "plt.style.use('dark_background')\n",
    "fig, ax = plt.subplots(figsize=(7,6))\n",
    "sns.heatmap(ax=ax,data=confusion_matrix(y_test, y_pred_test), cmap=\"YlGnBu\",annot=True, fmt=\"d\" )\n",
    "ax.set_xlabel(\"Y_pred\",fontweight='bold')\n",
    "ax.set_ylabel(\"Y_true\",fontweight='bold')\n",
    "plt.title('Testing Confusion Matrix',fontweight='bold')\n",
    "plt.show()"
   ]
  },
  {
   "cell_type": "markdown",
   "metadata": {},
   "source": [
    "---\n",
    "# <center>MLP using sklearn"
   ]
  },
  {
   "cell_type": "code",
   "execution_count": 86,
   "metadata": {},
   "outputs": [],
   "source": [
    "## Prepare dataset\n",
    "from sklearn.datasets import load_wine\n",
    "data = load_wine()\n",
    "X = data.data\n",
    "y = data.target\n",
    "\n",
    "from sklearn.model_selection import train_test_split\n",
    "X_train, X_test, y_train, y_test = train_test_split(X, y, test_size=0.2)\n",
    "\n",
    "from sklearn.preprocessing import MinMaxScaler\n",
    "scaler = MinMaxScaler()\n",
    "X_train = scaler.fit_transform(X_train)\n",
    "X_test = scaler.fit_transform(X_test)"
   ]
  },
  {
   "cell_type": "code",
   "execution_count": 90,
   "metadata": {},
   "outputs": [
    {
     "data": {
      "text/plain": [
       "MLPClassifier(activation='logistic', alpha=0.0001, batch_size='auto',\n",
       "              beta_1=0.9, beta_2=0.999, early_stopping=False, epsilon=1e-08,\n",
       "              hidden_layer_sizes=30, learning_rate='constant',\n",
       "              learning_rate_init=0.005, max_fun=15000, max_iter=1000,\n",
       "              momentum=0.9, n_iter_no_change=10, nesterovs_momentum=True,\n",
       "              power_t=0.5, random_state=1, shuffle=True, solver='adam',\n",
       "              tol=0.0001, validation_fraction=0.1, verbose=False,\n",
       "              warm_start=False)"
      ]
     },
     "execution_count": 90,
     "metadata": {},
     "output_type": "execute_result"
    }
   ],
   "source": [
    "from sklearn.neural_network import MLPClassifier\n",
    "\n",
    "# Multi Layer Perceptron\n",
    "clf = MLPClassifier(hidden_layer_sizes = (30 ), activation = 'logistic',\n",
    "                    solver = 'adam', learning_rate_init = 0.005,\n",
    "                    max_iter = 1000,random_state = 1)\n",
    "\n",
    "clf.fit(X_train,y_train)"
   ]
  },
  {
   "cell_type": "code",
   "execution_count": 91,
   "metadata": {},
   "outputs": [
    {
     "name": "stdout",
     "output_type": "stream",
     "text": [
      "Model accuracy: 0.9722222222222222\n"
     ]
    }
   ],
   "source": [
    "y_pred = clf.predict(X_test)\n",
    "print('Model accuracy:',accuracy_score(y_test, y_pred))"
   ]
  },
  {
   "cell_type": "code",
   "execution_count": 92,
   "metadata": {},
   "outputs": [
    {
     "data": {
      "image/png": "[encoded data removed]",
      "text/plain": [
       "<Figure size 504x432 with 2 Axes>"
      ]
     },
     "metadata": {},
     "output_type": "display_data"
    }
   ],
   "source": [
    "plt.style.use('dark_background')\n",
    "fig, ax = plt.subplots(figsize=(7,6))\n",
    "sns.heatmap(ax=ax,data=confusion_matrix(y_test, y_pred), cmap=\"YlGnBu\",annot=True, fmt=\"d\" )\n",
    "ax.set_xlabel(\"Y_pred\",fontweight='bold')\n",
    "ax.set_ylabel(\"Y_true\",fontweight='bold')\n",
    "plt.title('Testing Confusion Matrix',fontweight='bold')\n",
    "plt.show()"
   ]
  },
  {
   "cell_type": "markdown",
   "metadata": {},
   "source": [
    "---\n",
    "\n",
    "# <center> MLP using Tensorflow\n"
   ]
  },
  {
   "cell_type": "code",
   "execution_count": 138,
   "metadata": {},
   "outputs": [],
   "source": [
    "## Prepare dataset\n",
    "from sklearn.datasets import load_wine\n",
    "data = load_wine()\n",
    "X = data.data\n",
    "y = data.target\n",
    "\n",
    "from sklearn.model_selection import train_test_split\n",
    "X_train, X_test, y_train, y_test = train_test_split(X, y, test_size=0.2)\n",
    "\n",
    "from sklearn.preprocessing import MinMaxScaler\n",
    "scaler = MinMaxScaler()\n",
    "X_train = scaler.fit_transform(X_train)\n",
    "X_test = scaler.fit_transform(X_test)"
   ]
  },
  {
   "cell_type": "code",
   "execution_count": 144,
   "metadata": {},
   "outputs": [],
   "source": [
    "from tensorflow.keras.layers import Dense\n",
    "from tensorflow.keras.models import Sequential\n",
    "\n",
    "model = Sequential([\n",
    "    Dense(24, activation='relu'),\n",
    "    Dense(40, activation='relu'),\n",
    "    Dense(60, activation='relu')\n",
    "])"
   ]
  },
  {
   "cell_type": "code",
   "execution_count": 145,
   "metadata": {},
   "outputs": [],
   "source": [
    "from tensorflow.keras.optimizers import SGD\n",
    "from tensorflow.keras.losses import SparseCategoricalCrossentropy\n",
    "\n",
    "model.compile(optimizer='adam',\n",
    "              loss=SparseCategoricalCrossentropy(from_logits=True),\n",
    "              metrics=['accuracy'])"
   ]
  },
  {
   "cell_type": "code",
   "execution_count": 146,
   "metadata": {},
   "outputs": [
    {
     "name": "stdout",
     "output_type": "stream",
     "text": [
      "Epoch 1/100\n",
      "142/142 [==============================] - 0s 994us/sample - loss: 4.1464 - acc: 0.0000e+00\n",
      "Epoch 2/100\n",
      "142/142 [==============================] - 0s 78us/sample - loss: 4.1269 - acc: 0.0000e+00\n",
      "Epoch 3/100\n",
      "142/142 [==============================] - 0s 99us/sample - loss: 4.1140 - acc: 0.0000e+00\n",
      "Epoch 4/100\n",
      "142/142 [==============================] - 0s 92us/sample - loss: 4.1059 - acc: 0.0000e+00\n",
      "Epoch 5/100\n",
      "142/142 [==============================] - 0s 106us/sample - loss: 4.1010 - acc: 0.0000e+00\n",
      "Epoch 6/100\n",
      "142/142 [==============================] - 0s 106us/sample - loss: 4.0979 - acc: 0.0000e+00\n",
      "Epoch 7/100\n",
      "142/142 [==============================] - 0s 127us/sample - loss: 4.0962 - acc: 0.0000e+00\n",
      "Epoch 8/100\n",
      "142/142 [==============================] - 0s 92us/sample - loss: 4.0953 - acc: 0.0211\n",
      "Epoch 9/100\n",
      "142/142 [==============================] - 0s 106us/sample - loss: 4.0949 - acc: 0.0423\n",
      "Epoch 10/100\n",
      "142/142 [==============================] - 0s 99us/sample - loss: 4.0946 - acc: 0.0915\n",
      "Epoch 11/100\n",
      "142/142 [==============================] - 0s 85us/sample - loss: 4.0945 - acc: 0.1338\n",
      "Epoch 12/100\n",
      "142/142 [==============================] - 0s 99us/sample - loss: 4.0944 - acc: 0.1972\n",
      "Epoch 13/100\n",
      "142/142 [==============================] - 0s 99us/sample - loss: 4.0931 - acc: 0.2394\n",
      "Epoch 14/100\n",
      "142/142 [==============================] - 0s 78us/sample - loss: 4.0818 - acc: 0.2606\n",
      "Epoch 15/100\n",
      "142/142 [==============================] - 0s 85us/sample - loss: 4.0493 - acc: 0.2676\n",
      "Epoch 16/100\n",
      "142/142 [==============================] - 0s 106us/sample - loss: 4.0129 - acc: 0.2676\n",
      "Epoch 17/100\n",
      "142/142 [==============================] - 0s 92us/sample - loss: 3.9696 - acc: 0.2676\n",
      "Epoch 18/100\n",
      "142/142 [==============================] - 0s 99us/sample - loss: 3.9189 - acc: 0.2676\n",
      "Epoch 19/100\n",
      "142/142 [==============================] - 0s 106us/sample - loss: 3.8625 - acc: 0.2676\n",
      "Epoch 20/100\n",
      "142/142 [==============================] - 0s 78us/sample - loss: 3.7917 - acc: 0.2676\n",
      "Epoch 21/100\n",
      "142/142 [==============================] - 0s 92us/sample - loss: 3.7135 - acc: 0.2676\n",
      "Epoch 22/100\n",
      "142/142 [==============================] - 0s 92us/sample - loss: 3.6544 - acc: 0.2676\n",
      "Epoch 23/100\n",
      "142/142 [==============================] - 0s 85us/sample - loss: 3.5791 - acc: 0.2676\n",
      "Epoch 24/100\n",
      "142/142 [==============================] - 0s 99us/sample - loss: 3.5233 - acc: 0.2676\n",
      "Epoch 25/100\n",
      "142/142 [==============================] - 0s 99us/sample - loss: 3.4762 - acc: 0.2676\n",
      "Epoch 26/100\n",
      "142/142 [==============================] - 0s 92us/sample - loss: 3.3975 - acc: 0.2676\n",
      "Epoch 27/100\n",
      "142/142 [==============================] - 0s 70us/sample - loss: 3.2723 - acc: 0.2676\n",
      "Epoch 28/100\n",
      "142/142 [==============================] - 0s 113us/sample - loss: 3.1153 - acc: 0.2676\n",
      "Epoch 29/100\n",
      "142/142 [==============================] - 0s 70us/sample - loss: 2.8882 - acc: 0.2676\n",
      "Epoch 30/100\n",
      "142/142 [==============================] - 0s 85us/sample - loss: 2.6231 - acc: 0.2676\n",
      "Epoch 31/100\n",
      "142/142 [==============================] - 0s 113us/sample - loss: 2.3286 - acc: 0.2676\n",
      "Epoch 32/100\n",
      "142/142 [==============================] - 0s 78us/sample - loss: 2.0225 - acc: 0.2887\n",
      "Epoch 33/100\n",
      "142/142 [==============================] - 0s 99us/sample - loss: 1.7327 - acc: 0.5000\n",
      "Epoch 34/100\n",
      "142/142 [==============================] - 0s 92us/sample - loss: 1.4770 - acc: 0.6056\n",
      "Epoch 35/100\n",
      "142/142 [==============================] - 0s 85us/sample - loss: 1.2805 - acc: 0.6549\n",
      "Epoch 36/100\n",
      "142/142 [==============================] - 0s 120us/sample - loss: 1.1314 - acc: 0.6620\n",
      "Epoch 37/100\n",
      "142/142 [==============================] - 0s 78us/sample - loss: 0.9950 - acc: 0.6549\n",
      "Epoch 38/100\n",
      "142/142 [==============================] - 0s 99us/sample - loss: 0.8868 - acc: 0.6549\n",
      "Epoch 39/100\n",
      "142/142 [==============================] - 0s 85us/sample - loss: 0.8124 - acc: 0.7606\n",
      "Epoch 40/100\n",
      "142/142 [==============================] - 0s 92us/sample - loss: 0.7761 - acc: 0.6761\n",
      "Epoch 41/100\n",
      "142/142 [==============================] - 0s 92us/sample - loss: 0.7451 - acc: 0.6197\n",
      "Epoch 42/100\n",
      "142/142 [==============================] - 0s 85us/sample - loss: 0.7154 - acc: 0.7676\n",
      "Epoch 43/100\n",
      "142/142 [==============================] - 0s 92us/sample - loss: 0.6874 - acc: 0.8732\n",
      "Epoch 44/100\n",
      "142/142 [==============================] - 0s 99us/sample - loss: 0.6659 - acc: 0.8732\n",
      "Epoch 45/100\n",
      "142/142 [==============================] - 0s 70us/sample - loss: 0.6451 - acc: 0.8662\n",
      "Epoch 46/100\n",
      "142/142 [==============================] - 0s 92us/sample - loss: 0.6264 - acc: 0.8521\n",
      "Epoch 47/100\n",
      "142/142 [==============================] - 0s 106us/sample - loss: 0.6063 - acc: 0.8310\n",
      "Epoch 48/100\n",
      "142/142 [==============================] - 0s 78us/sample - loss: 0.5916 - acc: 0.8521\n",
      "Epoch 49/100\n",
      "142/142 [==============================] - 0s 120us/sample - loss: 0.5740 - acc: 0.8592\n",
      "Epoch 50/100\n",
      "142/142 [==============================] - 0s 78us/sample - loss: 0.5571 - acc: 0.8662\n",
      "Epoch 51/100\n",
      "142/142 [==============================] - 0s 70us/sample - loss: 0.5419 - acc: 0.8803\n",
      "Epoch 52/100\n",
      "142/142 [==============================] - 0s 120us/sample - loss: 0.5263 - acc: 0.8873\n",
      "Epoch 53/100\n",
      "142/142 [==============================] - 0s 92us/sample - loss: 0.5114 - acc: 0.9085\n",
      "Epoch 54/100\n",
      "142/142 [==============================] - 0s 85us/sample - loss: 0.4971 - acc: 0.9155\n",
      "Epoch 55/100\n",
      "142/142 [==============================] - 0s 113us/sample - loss: 0.4800 - acc: 0.9085\n",
      "Epoch 56/100\n",
      "142/142 [==============================] - 0s 113us/sample - loss: 0.4685 - acc: 0.8662\n",
      "Epoch 57/100\n",
      "142/142 [==============================] - 0s 92us/sample - loss: 0.4553 - acc: 0.8873\n",
      "Epoch 58/100\n",
      "142/142 [==============================] - 0s 99us/sample - loss: 0.4385 - acc: 0.9014\n",
      "Epoch 59/100\n",
      "142/142 [==============================] - 0s 85us/sample - loss: 0.4246 - acc: 0.9085\n",
      "Epoch 60/100\n",
      "142/142 [==============================] - 0s 127us/sample - loss: 0.4138 - acc: 0.8873\n",
      "Epoch 61/100\n",
      "142/142 [==============================] - 0s 106us/sample - loss: 0.4002 - acc: 0.8944\n",
      "Epoch 62/100\n",
      "142/142 [==============================] - 0s 134us/sample - loss: 0.3897 - acc: 0.9225\n",
      "Epoch 63/100\n",
      "142/142 [==============================] - 0s 99us/sample - loss: 0.3735 - acc: 0.9155\n",
      "Epoch 64/100\n",
      "142/142 [==============================] - 0s 78us/sample - loss: 0.3621 - acc: 0.8803\n",
      "Epoch 65/100\n",
      "142/142 [==============================] - 0s 162us/sample - loss: 0.3459 - acc: 0.9085\n",
      "Epoch 66/100\n",
      "142/142 [==============================] - 0s 99us/sample - loss: 0.3340 - acc: 0.9155\n",
      "Epoch 67/100\n",
      "142/142 [==============================] - 0s 106us/sample - loss: 0.3206 - acc: 0.9155\n",
      "Epoch 68/100\n",
      "142/142 [==============================] - 0s 92us/sample - loss: 0.3137 - acc: 0.9014\n",
      "Epoch 69/100\n",
      "142/142 [==============================] - 0s 92us/sample - loss: 0.3041 - acc: 0.9155\n",
      "Epoch 70/100\n",
      "142/142 [==============================] - 0s 106us/sample - loss: 0.2897 - acc: 0.9225\n",
      "Epoch 71/100\n",
      "142/142 [==============================] - 0s 113us/sample - loss: 0.2819 - acc: 0.9155\n",
      "Epoch 72/100\n",
      "142/142 [==============================] - 0s 106us/sample - loss: 0.2756 - acc: 0.9085\n",
      "Epoch 73/100\n",
      "142/142 [==============================] - 0s 113us/sample - loss: 0.2620 - acc: 0.9225\n",
      "Epoch 74/100\n",
      "142/142 [==============================] - 0s 92us/sample - loss: 0.2545 - acc: 0.9225\n",
      "Epoch 75/100\n",
      "142/142 [==============================] - 0s 92us/sample - loss: 0.2476 - acc: 0.9225\n",
      "Epoch 76/100\n",
      "142/142 [==============================] - 0s 78us/sample - loss: 0.2396 - acc: 0.9296\n",
      "Epoch 77/100\n",
      "142/142 [==============================] - 0s 85us/sample - loss: 0.2335 - acc: 0.9225\n",
      "Epoch 78/100\n",
      "142/142 [==============================] - 0s 134us/sample - loss: 0.2267 - acc: 0.9225\n",
      "Epoch 79/100\n",
      "142/142 [==============================] - 0s 92us/sample - loss: 0.2223 - acc: 0.9296\n",
      "Epoch 80/100\n",
      "142/142 [==============================] - 0s 92us/sample - loss: 0.2140 - acc: 0.9296\n",
      "Epoch 81/100\n",
      "142/142 [==============================] - 0s 113us/sample - loss: 0.2095 - acc: 0.9225\n",
      "Epoch 82/100\n"
     ]
    },
    {
     "name": "stdout",
     "output_type": "stream",
     "text": [
      "142/142 [==============================] - 0s 78us/sample - loss: 0.2035 - acc: 0.9225\n",
      "Epoch 83/100\n",
      "142/142 [==============================] - 0s 106us/sample - loss: 0.1987 - acc: 0.9366\n",
      "Epoch 84/100\n",
      "142/142 [==============================] - 0s 99us/sample - loss: 0.1925 - acc: 0.9437\n",
      "Epoch 85/100\n",
      "142/142 [==============================] - 0s 106us/sample - loss: 0.1872 - acc: 0.9648\n",
      "Epoch 86/100\n",
      "142/142 [==============================] - 0s 92us/sample - loss: 0.1839 - acc: 0.9507\n",
      "Epoch 87/100\n",
      "142/142 [==============================] - 0s 113us/sample - loss: 0.1786 - acc: 0.9507\n",
      "Epoch 88/100\n",
      "142/142 [==============================] - 0s 92us/sample - loss: 0.1748 - acc: 0.9507\n",
      "Epoch 89/100\n",
      "142/142 [==============================] - 0s 92us/sample - loss: 0.1708 - acc: 0.9718\n",
      "Epoch 90/100\n",
      "142/142 [==============================] - 0s 85us/sample - loss: 0.1663 - acc: 0.9718\n",
      "Epoch 91/100\n",
      "142/142 [==============================] - 0s 92us/sample - loss: 0.1644 - acc: 0.9789\n",
      "Epoch 92/100\n",
      "142/142 [==============================] - 0s 113us/sample - loss: 0.1599 - acc: 0.9648\n",
      "Epoch 93/100\n",
      "142/142 [==============================] - 0s 99us/sample - loss: 0.1582 - acc: 0.9648\n",
      "Epoch 94/100\n",
      "142/142 [==============================] - 0s 127us/sample - loss: 0.1535 - acc: 0.9718\n",
      "Epoch 95/100\n",
      "142/142 [==============================] - 0s 99us/sample - loss: 0.1511 - acc: 0.9718\n",
      "Epoch 96/100\n",
      "142/142 [==============================] - 0s 99us/sample - loss: 0.1472 - acc: 0.9718\n",
      "Epoch 97/100\n",
      "142/142 [==============================] - 0s 106us/sample - loss: 0.1439 - acc: 0.9718\n",
      "Epoch 98/100\n",
      "142/142 [==============================] - 0s 106us/sample - loss: 0.1424 - acc: 0.9718\n",
      "Epoch 99/100\n",
      "142/142 [==============================] - 0s 92us/sample - loss: 0.1393 - acc: 0.9718\n",
      "Epoch 100/100\n",
      "142/142 [==============================] - 0s 99us/sample - loss: 0.1353 - acc: 0.9789\n"
     ]
    },
    {
     "data": {
      "text/plain": [
       "<tensorflow.python.keras.callbacks.History at 0xb9f1b9dc08>"
      ]
     },
     "execution_count": 146,
     "metadata": {},
     "output_type": "execute_result"
    }
   ],
   "source": [
    "model.fit(X_train, y_train, epochs=100)"
   ]
  },
  {
   "cell_type": "code",
   "execution_count": 147,
   "metadata": {},
   "outputs": [
    {
     "name": "stdout",
     "output_type": "stream",
     "text": [
      "Model: \"sequential_11\"\n",
      "_________________________________________________________________\n",
      "Layer (type)                 Output Shape              Param #   \n",
      "=================================================================\n",
      "dense_31 (Dense)             multiple                  336       \n",
      "_________________________________________________________________\n",
      "dense_32 (Dense)             multiple                  1000      \n",
      "_________________________________________________________________\n",
      "dense_33 (Dense)             multiple                  2460      \n",
      "=================================================================\n",
      "Total params: 3,796\n",
      "Trainable params: 3,796\n",
      "Non-trainable params: 0\n",
      "_________________________________________________________________\n"
     ]
    }
   ],
   "source": [
    "model.summary()"
   ]
  },
  {
   "cell_type": "code",
   "execution_count": 148,
   "metadata": {},
   "outputs": [
    {
     "name": "stdout",
     "output_type": "stream",
     "text": [
      "36/36 [==============================] - 0s 2ms/sample - loss: 0.1154 - acc: 1.0000\n"
     ]
    },
    {
     "data": {
      "text/plain": [
       "[0.11544965373145209, 1.0]"
      ]
     },
     "execution_count": 148,
     "metadata": {},
     "output_type": "execute_result"
    }
   ],
   "source": [
    "model.evaluate(x = X_test, y = y_test)"
   ]
  },
  {
   "cell_type": "code",
   "execution_count": 149,
   "metadata": {},
   "outputs": [],
   "source": [
    "predictions = model.predict(X_test)\n",
    "y_pred = np.argmax(predictions,1)"
   ]
  },
  {
   "cell_type": "code",
   "execution_count": 150,
   "metadata": {},
   "outputs": [
    {
     "data": {
      "image/png": "[encoded data removed]",
      "text/plain": [
       "<Figure size 504x432 with 2 Axes>"
      ]
     },
     "metadata": {},
     "output_type": "display_data"
    }
   ],
   "source": [
    "plt.style.use('dark_background')\n",
    "fig, ax = plt.subplots(figsize=(7,6))\n",
    "sns.heatmap(ax=ax,data=confusion_matrix(y_test, y_pred), cmap=\"YlGnBu\",annot=True, fmt=\"d\" )\n",
    "ax.set_xlabel(\"Y_pred\",fontweight='bold')\n",
    "ax.set_ylabel(\"Y_true\",fontweight='bold')\n",
    "plt.title('Testing Confusion Matrix',fontweight='bold')\n",
    "plt.show()"
   ]
  },
  {
   "cell_type": "code",
   "execution_count": null,
   "metadata": {},
   "outputs": [],
   "source": []
  }
 ],
 "metadata": {
  "kernelspec": {
   "display_name": "Python 3",
   "language": "python",
   "name": "python3"
  },
  "language_info": {
   "codemirror_mode": {
    "name": "ipython",
    "version": 3
   },
   "file_extension": ".py",
   "mimetype": "text/x-python",
   "name": "python",
   "nbconvert_exporter": "python",
   "pygments_lexer": "ipython3",
   "version": "3.7.7"
  }
 },
 "nbformat": 4,
 "nbformat_minor": 4
}
